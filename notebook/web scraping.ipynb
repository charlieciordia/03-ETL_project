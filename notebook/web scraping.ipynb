{
 "cells": [
  {
   "cell_type": "markdown",
   "id": "5539273a",
   "metadata": {},
   "source": [
    "# Web scraping 🏴‍☠️"
   ]
  },
  {
   "cell_type": "markdown",
   "id": "4e2af65c",
   "metadata": {},
   "source": [
    "##### Tu web scraper de confianza"
   ]
  },
  {
   "cell_type": "code",
   "execution_count": 11,
   "id": "5e8f2b82",
   "metadata": {},
   "outputs": [],
   "source": [
    "import pandas as pd\n",
    "import os\n",
    "import requests\n",
    "from selenium import webdriver\n",
    "from selenium.webdriver.common.by import By\n",
    "from selenium.webdriver.common.keys import Keys\n",
    "import time\n",
    "from bs4 import BeautifulSoup"
   ]
  },
  {
   "cell_type": "markdown",
   "id": "e7921aab",
   "metadata": {},
   "source": [
    "### Extracción de tablas 📊"
   ]
  },
  {
   "cell_type": "markdown",
   "id": "c9f349f6",
   "metadata": {},
   "source": [
    "Para completar los requisitos del proyecto, extraigo información mediante web scraping."
   ]
  },
  {
   "cell_type": "code",
   "execution_count": 12,
   "id": "74941c18",
   "metadata": {},
   "outputs": [],
   "source": [
    "url = \"https://es.wikipedia.org/wiki/Anexo:Municipios_de_Espa%C3%B1a_por_poblaci%C3%B3n\""
   ]
  },
  {
   "cell_type": "code",
   "execution_count": 13,
   "id": "0e3b80d5",
   "metadata": {},
   "outputs": [],
   "source": [
    "driver = webdriver.Chrome()\n",
    "driver.get(url)"
   ]
  },
  {
   "cell_type": "code",
   "execution_count": 14,
   "id": "9cdacbf2",
   "metadata": {},
   "outputs": [],
   "source": [
    "# Obtener el HTML de la página con BeautifulSoup\n",
    "html = requests.get(url).content\n",
    "soup = BeautifulSoup(html, \"html.parser\")\n",
    "\n",
    "# Busco la tabla por su clase\n",
    "table = soup.find('table', class_='wikitable')\n",
    "\n",
    "# Convierto la tabla a un df\n",
    "population = pd.read_html(str(table))[0]"
   ]
  },
  {
   "cell_type": "code",
   "execution_count": 15,
   "id": "c188796f",
   "metadata": {},
   "outputs": [
    {
     "data": {
      "text/html": [
       "<div>\n",
       "<style scoped>\n",
       "    .dataframe tbody tr th:only-of-type {\n",
       "        vertical-align: middle;\n",
       "    }\n",
       "\n",
       "    .dataframe tbody tr th {\n",
       "        vertical-align: top;\n",
       "    }\n",
       "\n",
       "    .dataframe thead th {\n",
       "        text-align: right;\n",
       "    }\n",
       "</style>\n",
       "<table border=\"1\" class=\"dataframe\">\n",
       "  <thead>\n",
       "    <tr style=\"text-align: right;\">\n",
       "      <th></th>\n",
       "      <th>N.º</th>\n",
       "      <th>Nombre</th>\n",
       "      <th>Población (1 de enero de 2022)</th>\n",
       "      <th>Provincia</th>\n",
       "      <th>Comunidad autónoma</th>\n",
       "    </tr>\n",
       "  </thead>\n",
       "  <tbody>\n",
       "    <tr>\n",
       "      <th>0</th>\n",
       "      <td>1</td>\n",
       "      <td>Madrid</td>\n",
       "      <td>3 286 662</td>\n",
       "      <td>Madrid</td>\n",
       "      <td>Comunidad de Madrid</td>\n",
       "    </tr>\n",
       "    <tr>\n",
       "      <th>1</th>\n",
       "      <td>2</td>\n",
       "      <td>Barcelona</td>\n",
       "      <td>1 636 193</td>\n",
       "      <td>Barcelona</td>\n",
       "      <td>Cataluña</td>\n",
       "    </tr>\n",
       "    <tr>\n",
       "      <th>2</th>\n",
       "      <td>3</td>\n",
       "      <td>Valencia</td>\n",
       "      <td>792 492</td>\n",
       "      <td>Valencia</td>\n",
       "      <td>Comunidad Valenciana</td>\n",
       "    </tr>\n",
       "    <tr>\n",
       "      <th>3</th>\n",
       "      <td>4</td>\n",
       "      <td>Sevilla</td>\n",
       "      <td>681 998</td>\n",
       "      <td>Sevilla</td>\n",
       "      <td>Andalucía</td>\n",
       "    </tr>\n",
       "    <tr>\n",
       "      <th>4</th>\n",
       "      <td>5</td>\n",
       "      <td>Zaragoza</td>\n",
       "      <td>673 010</td>\n",
       "      <td>Zaragoza</td>\n",
       "      <td>Aragón</td>\n",
       "    </tr>\n",
       "    <tr>\n",
       "      <th>5</th>\n",
       "      <td>6</td>\n",
       "      <td>Málaga</td>\n",
       "      <td>579 076</td>\n",
       "      <td>Málaga</td>\n",
       "      <td>Andalucía</td>\n",
       "    </tr>\n",
       "  </tbody>\n",
       "</table>\n",
       "</div>"
      ],
      "text/plain": [
       "   N.º     Nombre Población (1 de enero de 2022)  Provincia  \\\n",
       "0    1     Madrid                      3 286 662     Madrid   \n",
       "1    2  Barcelona                      1 636 193  Barcelona   \n",
       "2    3   Valencia                        792 492   Valencia   \n",
       "3    4    Sevilla                        681 998    Sevilla   \n",
       "4    5   Zaragoza                        673 010   Zaragoza   \n",
       "5    6     Málaga                        579 076     Málaga   \n",
       "\n",
       "     Comunidad autónoma  \n",
       "0   Comunidad de Madrid  \n",
       "1              Cataluña  \n",
       "2  Comunidad Valenciana  \n",
       "3             Andalucía  \n",
       "4                Aragón  \n",
       "5             Andalucía  "
      ]
     },
     "execution_count": 15,
     "metadata": {},
     "output_type": "execute_result"
    }
   ],
   "source": [
    "population"
   ]
  },
  {
   "cell_type": "code",
   "execution_count": 16,
   "id": "a656e629",
   "metadata": {},
   "outputs": [],
   "source": [
    "population.to_csv('../data/population.csv', index=False)"
   ]
  },
  {
   "cell_type": "markdown",
   "id": "d5a383e6",
   "metadata": {},
   "source": [
    "### Conexión con Mongo"
   ]
  },
  {
   "cell_type": "code",
   "execution_count": 49,
   "id": "7aff3f70",
   "metadata": {},
   "outputs": [],
   "source": [
    "import pymongo\n",
    "from pymongo import MongoClient\n",
    "\n",
    "client = pymongo.MongoClient(\"mongodb://localhost:27017/\")\n",
    "db = client[\"ETL_project\"]"
   ]
  },
  {
   "cell_type": "code",
   "execution_count": 50,
   "id": "f9f61a81",
   "metadata": {},
   "outputs": [
    {
     "data": {
      "text/plain": [
       "<pymongo.results.InsertManyResult at 0x220066431f0>"
      ]
     },
     "execution_count": 50,
     "metadata": {},
     "output_type": "execute_result"
    }
   ],
   "source": [
    "collection = db[\"data\"]\n",
    "data_dict = population.to_dict(orient=\"records\")\n",
    "\n",
    "# Inserta los registros en la colección\n",
    "collection.insert_many(data_dict)"
   ]
  },
  {
   "cell_type": "markdown",
   "id": "02cd6a4c",
   "metadata": {},
   "source": [
    "### Extracción de imágenes para futuros trabajos 🍋"
   ]
  },
  {
   "cell_type": "markdown",
   "id": "ef02e088",
   "metadata": {},
   "source": [
    "Además, he añadido la extracción de imágenes en pinterest. Para esta ocasión, he elegido al personaje [Limoncio](https://www.youtube.com/watch?v=dmxhLEoJf-o), de *Adventure time*."
   ]
  },
  {
   "cell_type": "code",
   "execution_count": 43,
   "id": "e41a7bda",
   "metadata": {},
   "outputs": [
    {
     "name": "stdout",
     "output_type": "stream",
     "text": [
      "Número de etiquetas de imágenes encontradas: 23\n",
      "Número de etiquetas de imágenes encontradas: 24\n",
      "Número de etiquetas de imágenes encontradas: 22\n",
      "Número de etiquetas de imágenes encontradas: 24\n",
      "Número de etiquetas de imágenes encontradas: 22\n"
     ]
    }
   ],
   "source": [
    "url = 'https://www.pinterest.es/search/pins/?rs=ac&len=2&q=lemongrab%20adventure%20time&eq=Lemongrab%20adve&etslf=3860'\n",
    "\n",
    "driver = webdriver.Chrome()\n",
    "driver.get(url)\n",
    "\n",
    "scroll_count = 5  # Scroll hacia abajo\n",
    "\n",
    "destination_folder = os.path.join(\"../img\", \"lemongrab_images\")\n",
    "\n",
    "# Crea la carpeta si no existe\n",
    "os.makedirs(destination_folder, exist_ok=True)\n",
    "\n",
    "for i in range(scroll_count):\n",
    "    driver.execute_script(\"window.scrollTo(0, document.body.scrollHeight);\")\n",
    "    time.sleep(2)  # Espero a que se carguen las imágenes.\n",
    "\n",
    "    # Encuentra las etiquetas de imagen (img) en la página\n",
    "    img_tags = driver.find_elements(By.CSS_SELECTOR, 'img')\n",
    "    print(f'Número de etiquetas de imágenes encontradas: {len(img_tags)}')\n",
    "\n",
    "    for index, img in enumerate(img_tags):\n",
    "        '''\n",
    "        Con enumerate es lo mismo que hacer:\n",
    "        \n",
    "        for list in lists:\n",
    "            for e in list:\n",
    "\n",
    "        '''\n",
    "        try:\n",
    "            src = img.get_attribute('src') #Para cada etiqueta de imagen, intenta coger el atributo \"src\" con la URL de la imagen\n",
    "            if src: #verifica si tiene un valor nulo\n",
    "                if src.startswith(\"data:image/\"):\n",
    "                    # omite la descarga de imágenes con este tipo de URL, porque Las URL que comienzan con \"data:image/\" suelen representar imágenes incrustadas en la página en lugar de imágenes a las que se pueda acceder mediante una solicitud HTTP\n",
    "                    continue\n",
    "                response = requests.get(src)\n",
    "                if response.status_code == 200:\n",
    "                    image_filename = os.path.join(destination_folder, f\"lemongrab_{index}.jpg\") #Se genera el nombre del archivo de imagen que se utilizará para guardar la imagen en la carpeta local\n",
    "                    with open(image_filename, 'wb') as image_file: #Se abre el archivo en modo binario ('wb') para escribir la imagen descargada.\n",
    "                        image_file.write(response.content)\n",
    "        except Exception as e:\n",
    "            print(f\"An error occurred: {e}\")\n",
    "\n",
    "# Cierra el navegador\n",
    "driver.quit()"
   ]
  }
 ],
 "metadata": {
  "kernelspec": {
   "display_name": "Python 3 (ipykernel)",
   "language": "python",
   "name": "python3"
  },
  "language_info": {
   "codemirror_mode": {
    "name": "ipython",
    "version": 3
   },
   "file_extension": ".py",
   "mimetype": "text/x-python",
   "name": "python",
   "nbconvert_exporter": "python",
   "pygments_lexer": "ipython3",
   "version": "3.11.4"
  }
 },
 "nbformat": 4,
 "nbformat_minor": 5
}
