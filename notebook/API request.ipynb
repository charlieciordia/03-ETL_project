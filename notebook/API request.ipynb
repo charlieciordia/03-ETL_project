{
 "cells": [
  {
   "cell_type": "markdown",
   "id": "c7a347f5",
   "metadata": {},
   "source": [
    "## API OpenAQ\n",
    "\n",
    "Este archivo contiene los pasos realizados para la obtención de datos de calidad de aire a través de la API OpenAQ."
   ]
  },
  {
   "cell_type": "code",
   "execution_count": 1,
   "id": "f521f0cb",
   "metadata": {},
   "outputs": [],
   "source": [
    "import json\n",
    "import requests\n",
    "import os\n",
    "import pymongo"
   ]
  },
  {
   "cell_type": "markdown",
   "id": "1e0f984d",
   "metadata": {},
   "source": [
    "#### Conexión con MongoDB para subir los datos extraidos de la API"
   ]
  },
  {
   "cell_type": "code",
   "execution_count": 2,
   "id": "106f43d0",
   "metadata": {},
   "outputs": [],
   "source": [
    "client = pymongo.MongoClient(\"mongodb://localhost:27017/\")\n",
    "db = client[\"ETL_project\"]\n",
    "collection = db[\"airq\"]"
   ]
  },
  {
   "cell_type": "markdown",
   "id": "70512b18",
   "metadata": {},
   "source": [
    "#### Conexión con la API"
   ]
  },
  {
   "cell_type": "code",
   "execution_count": 3,
   "id": "1e1f695a",
   "metadata": {},
   "outputs": [],
   "source": [
    "github = os.getenv(\"aq_pass\")\n",
    "with open('../aq_pass.txt', 'r') as file:\n",
    "    token = file.read()\n",
    "HEADER = {'Authorization': f\"password {token}\"}"
   ]
  },
  {
   "cell_type": "markdown",
   "id": "8fe07cde",
   "metadata": {},
   "source": [
    "### List locations in Spain that measure PM2.5"
   ]
  },
  {
   "cell_type": "code",
   "execution_count": 89,
   "id": "6cbb0197",
   "metadata": {},
   "outputs": [],
   "source": [
    "country_code = \"ES\" # Españita\n",
    "\n",
    "parameter = \"pm25\" # los distintos parámetros explicados en la API\n",
    "\n",
    "url = f\"https://api.openaq.org/v2/locations?country={country_code}&parameter={parameter}\"\n",
    "\n",
    "headers = {\"accept\": \"application/json\"}\n",
    "\n",
    "response = requests.get(url, headers=headers)\n",
    "\n",
    "#print(response.content)"
   ]
  },
  {
   "cell_type": "code",
   "execution_count": 5,
   "id": "a210b6c8",
   "metadata": {},
   "outputs": [],
   "source": [
    "data_dict = response.json()"
   ]
  },
  {
   "cell_type": "code",
   "execution_count": 6,
   "id": "de87ece9",
   "metadata": {},
   "outputs": [],
   "source": [
    "data = data_dict['results']  # Extraer la lista de documentos"
   ]
  },
  {
   "cell_type": "code",
   "execution_count": 7,
   "id": "ed08fe6b",
   "metadata": {
    "scrolled": true
   },
   "outputs": [
    {
     "data": {
      "text/plain": [
       "<pymongo.results.InsertManyResult at 0x1e80251bbe0>"
      ]
     },
     "execution_count": 7,
     "metadata": {},
     "output_type": "execute_result"
    }
   ],
   "source": [
    "# Inserta los datos en la colección\n",
    "collection.insert_many(data)"
   ]
  },
  {
   "cell_type": "markdown",
   "id": "910d52b9",
   "metadata": {},
   "source": [
    "### Locations by country"
   ]
  },
  {
   "cell_type": "code",
   "execution_count": 8,
   "id": "eccffd12",
   "metadata": {},
   "outputs": [],
   "source": [
    "country_code = \"ES\"\n",
    "\n",
    "url = f\"https://api.openaq.org/v2/locations?country={country_code}\"\n",
    "\n",
    "headers = {\"Accept\": \"application/json\"}\n",
    "\n",
    "response = requests.get(url, headers=headers)\n",
    "\n",
    "#print(response.content)"
   ]
  },
  {
   "cell_type": "code",
   "execution_count": 9,
   "id": "f8b81aca",
   "metadata": {},
   "outputs": [],
   "source": [
    "data2 = response.content"
   ]
  },
  {
   "cell_type": "code",
   "execution_count": 10,
   "id": "d1ab2e38",
   "metadata": {},
   "outputs": [],
   "source": [
    "data_dict2 = json.loads(data2)"
   ]
  },
  {
   "cell_type": "code",
   "execution_count": 11,
   "id": "3d22db24",
   "metadata": {},
   "outputs": [],
   "source": [
    "data2 = data_dict2['results']"
   ]
  },
  {
   "cell_type": "code",
   "execution_count": 12,
   "id": "5df70b1c",
   "metadata": {},
   "outputs": [
    {
     "data": {
      "text/plain": [
       "<pymongo.results.InsertManyResult at 0x1e8036cf910>"
      ]
     },
     "execution_count": 12,
     "metadata": {},
     "output_type": "execute_result"
    }
   ],
   "source": [
    "collection.insert_many(data2)"
   ]
  },
  {
   "cell_type": "code",
   "execution_count": 88,
   "id": "8803b9ce",
   "metadata": {},
   "outputs": [],
   "source": [
    "import requests\n",
    "\n",
    "url = \"https://api.openaq.org/v2/locations?limit=100&page=1&offset=0&sort=desc&coordinates=41.38879%2C2.15899&radius=1000&order_by=lastUpdated&dump_raw=false\"\n",
    "\n",
    "headers = {\"accept\": \"application/json\"}\n",
    "\n",
    "response = requests.get(url, headers=headers)\n",
    "\n",
    "#print(response.text)"
   ]
  },
  {
   "cell_type": "markdown",
   "id": "e7467955",
   "metadata": {},
   "source": [
    "### All id in Madrid"
   ]
  },
  {
   "cell_type": "code",
   "execution_count": 66,
   "id": "aab72586",
   "metadata": {},
   "outputs": [],
   "source": [
    "url = \"https://api.openaq.org/v2/locations?limit=100&page=1&offset=0&sort=desc&radius=1000&city=Madrid&order_by=lastUpdated&dump_raw=false\"\n",
    "\n",
    "headers = {\"accept\": \"application/json\"}\n",
    "\n",
    "response = requests.get(url, headers=headers)\n",
    "\n",
    "#print(response.text)"
   ]
  },
  {
   "cell_type": "code",
   "execution_count": 67,
   "id": "999f4bed",
   "metadata": {},
   "outputs": [],
   "source": [
    "data_mad = response.content\n",
    "data_dict_id_mad = json.loads(data_mad)\n",
    "data_id_mad = data_dict_id_mad['results']"
   ]
  },
  {
   "cell_type": "code",
   "execution_count": 68,
   "id": "2ea40c52",
   "metadata": {},
   "outputs": [
    {
     "data": {
      "text/plain": [
       "<pymongo.results.InsertManyResult at 0x1e805813dc0>"
      ]
     },
     "execution_count": 68,
     "metadata": {},
     "output_type": "execute_result"
    }
   ],
   "source": [
    "collection.insert_many(data_id_mad)"
   ]
  },
  {
   "cell_type": "markdown",
   "id": "78710eb8",
   "metadata": {},
   "source": [
    "### Average values Madrid 2022"
   ]
  },
  {
   "cell_type": "code",
   "execution_count": 90,
   "id": "9074b3c1",
   "metadata": {},
   "outputs": [],
   "source": [
    "#id: 4318, \"city\" = Madrid, \"name\" = \"ES1422A\"\n",
    "\n",
    "url = \"https://api.openaq.org/v2/locations?limit=100&page=1&offset=0&sort=desc&coordinates=40.4165%2C-3.70256&radius=1000&order_by=lastUpdated&dump_raw=false\"\n",
    "\n",
    "headers = {\"accept\": \"application/json\"}\n",
    "\n",
    "response = requests.get(url, headers=headers)\n",
    "\n",
    "#print(response.text)"
   ]
  },
  {
   "cell_type": "code",
   "execution_count": 15,
   "id": "0e338429",
   "metadata": {},
   "outputs": [],
   "source": [
    "data3 = response.content\n",
    "data_dict3 = json.loads(data3)\n",
    "data3 = data_dict3['results']"
   ]
  },
  {
   "cell_type": "code",
   "execution_count": 16,
   "id": "8fa83862",
   "metadata": {},
   "outputs": [
    {
     "data": {
      "text/plain": [
       "<pymongo.results.InsertManyResult at 0x1e8036cc790>"
      ]
     },
     "execution_count": 16,
     "metadata": {},
     "output_type": "execute_result"
    }
   ],
   "source": [
    "collection.insert_many(data3)"
   ]
  },
  {
   "cell_type": "markdown",
   "id": "3ef14e85",
   "metadata": {},
   "source": [
    "### Monthly PM2.5 Barcelona 2022"
   ]
  },
  {
   "cell_type": "code",
   "execution_count": 17,
   "id": "fd0b9258",
   "metadata": {},
   "outputs": [],
   "source": [
    "#id: 276005, \"name\" = \"Starlab Barcelona\"\n",
    "\n",
    "url = \"https://api.openaq.org/v2/averages?temporal=month&parameters_id=2&date_to=2022-12-31T00%3A00%3A00Z&date_from=2022-01-01T00%3A00%3A00Z&locations_id=276005&spatial=location&limit=100&page=1\"\n",
    "\n",
    "headers = {\"accept\": \"application/json\"}\n",
    "\n",
    "response = requests.get(url, headers=headers)"
   ]
  },
  {
   "cell_type": "code",
   "execution_count": 18,
   "id": "8173577e",
   "metadata": {},
   "outputs": [],
   "source": [
    "data4 = response.content\n",
    "data_dict4 = json.loads(data4)\n",
    "data4 = data_dict4['results']"
   ]
  },
  {
   "cell_type": "code",
   "execution_count": 19,
   "id": "4fb9eec8",
   "metadata": {},
   "outputs": [
    {
     "data": {
      "text/plain": [
       "<pymongo.results.InsertManyResult at 0x1e8036ccf40>"
      ]
     },
     "execution_count": 19,
     "metadata": {},
     "output_type": "execute_result"
    }
   ],
   "source": [
    "collection.insert_many(data4)"
   ]
  },
  {
   "cell_type": "markdown",
   "id": "31a10070",
   "metadata": {},
   "source": [
    "### Monthly PM2.5 Sevilla 2022"
   ]
  },
  {
   "cell_type": "code",
   "execution_count": 20,
   "id": "60bc5298",
   "metadata": {},
   "outputs": [],
   "source": [
    "#id: 4219, \"name\" = \"ES0817A\"\n",
    "\n",
    "url = \"https://api.openaq.org/v2/averages?temporal=month&parameters_id=2&date_to=2022-12-31T00%3A00%3A00Z&date_from=2022-01-01T00%3A00%3A00Z&locations_id=4219&spatial=location&limit=100&page=1\"\n",
    "\n",
    "headers = {\"accept\": \"application/json\"}\n",
    "\n",
    "response = requests.get(url, headers=headers)"
   ]
  },
  {
   "cell_type": "code",
   "execution_count": 21,
   "id": "dc476f2c",
   "metadata": {},
   "outputs": [],
   "source": [
    "data5 = response.content\n",
    "data_dict5 = json.loads(data5)\n",
    "data5 = data_dict5['results']"
   ]
  },
  {
   "cell_type": "code",
   "execution_count": 22,
   "id": "544afb2d",
   "metadata": {},
   "outputs": [
    {
     "data": {
      "text/plain": [
       "<pymongo.results.InsertManyResult at 0x1e8036cfb20>"
      ]
     },
     "execution_count": 22,
     "metadata": {},
     "output_type": "execute_result"
    }
   ],
   "source": [
    "collection.insert_many(data5)"
   ]
  },
  {
   "cell_type": "markdown",
   "id": "6f57866e",
   "metadata": {},
   "source": [
    "### Monthly PM2.5 Valencia 2022"
   ]
  },
  {
   "cell_type": "code",
   "execution_count": 34,
   "id": "17803985",
   "metadata": {},
   "outputs": [],
   "source": [
    "#id: 4316 \"name\" = \"\"ES1181A\" \n",
    "\n",
    "url = \"https://api.openaq.org/v2/averages?temporal=month&parameters_id=2&date_to=2022-12-31T00%3A00%3A00Z&date_from=2022-01-01T00%3A00%3A00Z&locations_id=4316&spatial=location&limit=100&page=1\"\n",
    "\n",
    "headers = {\"accept\": \"application/json\"}\n",
    "\n",
    "response = requests.get(url, headers=headers)"
   ]
  },
  {
   "cell_type": "code",
   "execution_count": 35,
   "id": "4140df41",
   "metadata": {},
   "outputs": [],
   "source": [
    "data6 = response.content\n",
    "data_dict6 = json.loads(data6)\n",
    "data6 = data_dict6['results']"
   ]
  },
  {
   "cell_type": "code",
   "execution_count": 36,
   "id": "0a34bb9f",
   "metadata": {},
   "outputs": [
    {
     "data": {
      "text/plain": [
       "<pymongo.results.InsertManyResult at 0x1e802519930>"
      ]
     },
     "execution_count": 36,
     "metadata": {},
     "output_type": "execute_result"
    }
   ],
   "source": [
    "collection.insert_many(data6)"
   ]
  },
  {
   "cell_type": "markdown",
   "id": "c98e4084",
   "metadata": {},
   "source": [
    "### Monthly PM2.5 Bilbao 2022"
   ]
  },
  {
   "cell_type": "code",
   "execution_count": 26,
   "id": "1728e0f3",
   "metadata": {},
   "outputs": [],
   "source": [
    "#id: 3264, \"city\" = \"Araba/Álava\", \"name\" = \"ES1489A\"\n",
    "\n",
    "url = \"https://api.openaq.org/v2/averages?temporal=month&parameters_id=2&date_to=2022-12-31T00%3A00%3A00Z&date_from=2022-01-01T00%3A00%3A00Z&locations_id=406370&spatial=location&limit=100&page=1\"\n",
    "\n",
    "headers = {\"accept\": \"application/json\"}\n",
    "\n",
    "response = requests.get(url, headers=headers)"
   ]
  },
  {
   "cell_type": "code",
   "execution_count": 27,
   "id": "edca202d",
   "metadata": {},
   "outputs": [],
   "source": [
    "data7 = response.content\n",
    "data_dict7 = json.loads(data7)\n",
    "data7 = data_dict7['results']"
   ]
  },
  {
   "cell_type": "code",
   "execution_count": 81,
   "id": "34cb80a6",
   "metadata": {},
   "outputs": [
    {
     "data": {
      "text/plain": [
       "[{'id': 406370,\n",
       "  'name': 'CEIP Cervantes HLHI',\n",
       "  'hour': None,\n",
       "  'day': None,\n",
       "  'month': '2022-12-01',\n",
       "  'year': None,\n",
       "  'hod': None,\n",
       "  'dow': None,\n",
       "  'average': 8.107481763020102,\n",
       "  'measurement_count': 423,\n",
       "  'parameter': 'pm25',\n",
       "  'parameterId': 2,\n",
       "  'displayName': 'PM2.5',\n",
       "  'unit': 'µg/m³',\n",
       "  'first_datetime': '2022-12-01T19:00:00Z',\n",
       "  'last_datetime': '2022-12-31T00:00:00Z',\n",
       "  '_id': ObjectId('6547781f77c26bb0875ea1d9')}]"
      ]
     },
     "execution_count": 81,
     "metadata": {},
     "output_type": "execute_result"
    }
   ],
   "source": [
    "data7"
   ]
  },
  {
   "cell_type": "code",
   "execution_count": 28,
   "id": "dd10b7b1",
   "metadata": {},
   "outputs": [
    {
     "data": {
      "text/plain": [
       "<pymongo.results.InsertManyResult at 0x1e802519d20>"
      ]
     },
     "execution_count": 28,
     "metadata": {},
     "output_type": "execute_result"
    }
   ],
   "source": [
    "collection.insert_many(data7)"
   ]
  },
  {
   "cell_type": "markdown",
   "id": "8605a273",
   "metadata": {},
   "source": [
    "### Monthly PM2.5 Málaga 2022"
   ]
  },
  {
   "cell_type": "code",
   "execution_count": 29,
   "id": "ce0f603e",
   "metadata": {},
   "outputs": [],
   "source": [
    "#id:69693, \"name\": \"El Candado\"\n",
    "\n",
    "url = \"https://api.openaq.org/v2/averages?temporal=month&parameters_id=2&date_to=2022-12-31T00%3A00%3A00Z&date_from=2022-01-01T00%3A00%3A00Z&locations_id=69693&spatial=location&limit=100&page=1\"\n",
    "\n",
    "headers = {\"accept\": \"application/json\"}\n",
    "\n",
    "response = requests.get(url, headers=headers)"
   ]
  },
  {
   "cell_type": "code",
   "execution_count": 77,
   "id": "a12dff6c",
   "metadata": {},
   "outputs": [
    {
     "data": {
      "text/plain": [
       "{'meta': {'name': 'openaq-api',\n",
       "  'license': '',\n",
       "  'website': '/',\n",
       "  'page': 1,\n",
       "  'limit': 100,\n",
       "  'found': 0},\n",
       " 'results': []}"
      ]
     },
     "execution_count": 77,
     "metadata": {},
     "output_type": "execute_result"
    }
   ],
   "source": [
    "data8 = response.content\n",
    "data_dict8 = json.loads(data8)\n",
    "data_dict8"
   ]
  },
  {
   "cell_type": "code",
   "execution_count": 31,
   "id": "9d4e05bc",
   "metadata": {
    "scrolled": true
   },
   "outputs": [
    {
     "data": {
      "text/plain": [
       "<pymongo.results.InsertManyResult at 0x1e8036ccf70>"
      ]
     },
     "execution_count": 31,
     "metadata": {},
     "output_type": "execute_result"
    }
   ],
   "source": [
    "collection.insert_many(data8)"
   ]
  },
  {
   "cell_type": "markdown",
   "id": "0b9a5c3d",
   "metadata": {},
   "source": [
    "### Monthly PM2.5 Madrid 2022 taken in every station"
   ]
  },
  {
   "cell_type": "markdown",
   "id": "296d3b93",
   "metadata": {},
   "source": [
    "Hasta ahora todas las consultas eran para buscar un valor en concreto en una estación determinada. Ahora planteo la búsqueda de un valor en todas las estaciones de una ciudad."
   ]
  },
  {
   "cell_type": "code",
   "execution_count": 62,
   "id": "cc17086e",
   "metadata": {},
   "outputs": [],
   "source": [
    "#id:3265, \"name\": \"ES1890A\", city: \"Madrid\"\n",
    "\n",
    "url = \"https://api.openaq.org/v2/averages?temporal=month&parameters_id=2&date_to=2022-12-31T00%3A00%3A00Z&date_from=2022-01-01T00%3A00%3A00Z&locations_id=3288&spatial=location&limit=100&page=1\"\n",
    "\n",
    "headers = {\"accept\": \"application/json\"}\n",
    "\n",
    "response = requests.get(url, headers=headers)"
   ]
  },
  {
   "cell_type": "code",
   "execution_count": 87,
   "id": "18143b9c",
   "metadata": {},
   "outputs": [],
   "source": [
    "data9 = response.content\n",
    "data_dict9 = json.loads(data9)\n",
    "data9 = data_dict9['results']"
   ]
  },
  {
   "cell_type": "code",
   "execution_count": 53,
   "id": "f288c15e",
   "metadata": {},
   "outputs": [
    {
     "data": {
      "text/plain": [
       "<pymongo.results.InsertManyResult at 0x1e8058197e0>"
      ]
     },
     "execution_count": 53,
     "metadata": {},
     "output_type": "execute_result"
    }
   ],
   "source": [
    "collection.insert_many(data9)"
   ]
  },
  {
   "cell_type": "markdown",
   "id": "a32f3cda",
   "metadata": {},
   "source": [
    "Hay estaciones en Madrid que no recogen el valor pm2.5, lo trato con **try except**"
   ]
  },
  {
   "cell_type": "code",
   "execution_count": 86,
   "id": "f30780f5",
   "metadata": {},
   "outputs": [
    {
     "name": "stdout",
     "output_type": "stream",
     "text": [
      "Datos para la ubicación 3265 insertados en MongoDB.\n",
      "Datos para la ubicación 3364 insertados en MongoDB.\n",
      "Datos para la ubicación 3367 insertados en MongoDB.\n",
      "Datos para la ubicación 4244 insertados en MongoDB.\n",
      "Datos para la ubicación 4265 insertados en MongoDB.\n",
      "Datos para la ubicación 4267 insertados en MongoDB.\n",
      "Datos para la ubicación 4270 insertados en MongoDB.\n",
      "Datos para la ubicación 4274 insertados en MongoDB.\n",
      "Datos para la ubicación 4275 insertados en MongoDB.\n",
      "Datos para la ubicación 4280 insertados en MongoDB.\n",
      "Datos para la ubicación 4283 insertados en MongoDB.\n",
      "Datos para la ubicación 4285 insertados en MongoDB.\n",
      "Datos para la ubicación 4244 insertados en MongoDB.\n",
      "Datos para la ubicación 4241 están vacíos.\n",
      "Datos para la ubicación 4342 están vacíos.\n",
      "Datos para la ubicación 4341 están vacíos.\n",
      "Datos para la ubicación 4338 insertados en MongoDB.\n",
      "Datos para la ubicación 4333 están vacíos.\n",
      "Datos para la ubicación 4332 están vacíos.\n",
      "Datos para la ubicación 4331 están vacíos.\n",
      "Datos para la ubicación 4329 están vacíos.\n",
      "Datos para la ubicación 4328 insertados en MongoDB.\n",
      "Datos para la ubicación 4327 están vacíos.\n",
      "Error al obtener datos para la ubicación 4323. Código de estado: 408\n",
      "Datos para la ubicación 4320 insertados en MongoDB.\n",
      "Datos para la ubicación 3265 insertados en MongoDB.\n",
      "Datos para la ubicación 4317 están vacíos.\n",
      "Datos para la ubicación 4314 están vacíos.\n",
      "Datos para la ubicación 4313 están vacíos.\n",
      "Datos para la ubicación 4312 están vacíos.\n",
      "Datos para la ubicación 3288 están vacíos.\n",
      "Datos para la ubicación 4318 están vacíos.\n",
      "Datos para la ubicación 4342 están vacíos.\n",
      "Datos para la ubicación 3265 insertados en MongoDB.\n",
      "Datos para la ubicación 3288 están vacíos.\n",
      "Datos para la ubicación 3295 están vacíos.\n",
      "Datos para la ubicación 3353 están vacíos.\n",
      "Datos para la ubicación 3364 insertados en MongoDB.\n",
      "Datos para la ubicación 3367 insertados en MongoDB.\n",
      "Datos para la ubicación 4241 están vacíos.\n",
      "Datos para la ubicación 4244 insertados en MongoDB.\n",
      "Datos para la ubicación 4247 están vacíos.\n",
      "Datos para la ubicación 4248 están vacíos.\n",
      "Datos para la ubicación 4249 están vacíos.\n",
      "Datos para la ubicación 4255 están vacíos.\n",
      "Datos para la ubicación 4258 están vacíos.\n",
      "Datos para la ubicación 4264 están vacíos.\n",
      "Datos para la ubicación 4265 insertados en MongoDB.\n",
      "Datos para la ubicación 4267 insertados en MongoDB.\n",
      "Datos para la ubicación 4270 insertados en MongoDB.\n",
      "Datos para la ubicación 4271 están vacíos.\n",
      "Datos para la ubicación 4274 insertados en MongoDB.\n",
      "Datos para la ubicación 4275 insertados en MongoDB.\n",
      "Datos para la ubicación 4280 insertados en MongoDB.\n",
      "Datos para la ubicación 4281 están vacíos.\n",
      "Datos para la ubicación 4283 insertados en MongoDB.\n",
      "Datos para la ubicación 4285 insertados en MongoDB.\n",
      "Datos para la ubicación 4287 están vacíos.\n",
      "Datos para la ubicación 4288 insertados en MongoDB.\n",
      "Datos para la ubicación 4296 insertados en MongoDB.\n",
      "Datos para la ubicación 4298 están vacíos.\n",
      "Datos para la ubicación 4305 están vacíos.\n",
      "Datos para la ubicación 4306 están vacíos.\n",
      "Datos para la ubicación 4312 están vacíos.\n",
      "Datos para la ubicación 4313 están vacíos.\n",
      "Datos para la ubicación 4314 están vacíos.\n",
      "Datos para la ubicación 4317 están vacíos.\n",
      "Datos para la ubicación 3223 están vacíos.\n",
      "Datos para la ubicación 4320 insertados en MongoDB.\n",
      "Datos para la ubicación 4323 insertados en MongoDB.\n",
      "Datos para la ubicación 4327 están vacíos.\n",
      "Datos para la ubicación 4328 insertados en MongoDB.\n",
      "Datos para la ubicación 4329 están vacíos.\n",
      "Datos para la ubicación 4331 están vacíos.\n",
      "Datos para la ubicación 4332 están vacíos.\n",
      "Datos para la ubicación 4333 están vacíos.\n",
      "Datos para la ubicación 4338 insertados en MongoDB.\n",
      "Datos para la ubicación 4341 están vacíos.\n",
      "Datos para la ubicación 4318 están vacíos.\n"
     ]
    }
   ],
   "source": [
    "# Lista de IDs de ubicación para las estaciones de Madrid\n",
    "location_ids_mad = [3265,3364,3367,4244,4265,4267,4270,4274,4275,4280,4283,4285,4244,4241,4342,4341,4338,4333,4332,4331,4329,4328,\n",
    " 4327,4323,4320,3265,4317,4314,4313,4312,3288,4318,4342,3265,3288,3295,3353,3364,3367,4241,4244,4247,4248,4249,4255,4258,4264,4265,\n",
    " 4267,4270,4271,4274,4275,4280,4281,4283,4285,4287,4288,4296,4298,4305,4306,4312,4313,4314,4317,3223,4320,4323,4327,4328,4329,4331,4332,4333,4338,4341,4318]\n",
    "headers = {\"accept\": \"application/json\"}\n",
    "\n",
    "for location_id in location_ids_mad:\n",
    "    # Una URL por cada id de las estaciones\n",
    "    url = f\"https://api.openaq.org/v2/averages?temporal=month&parameters_id=2&date_to=2022-12-31T00%3A00%3A00Z&date_from=2022-01-01T00%3A00%3A00Z&locations_id={location_id}&spatial=location&limit=100&page=1\"\n",
    "    # Realiza la solicitud GET para la URL actual\n",
    "    response = requests.get(url, headers=headers)\n",
    "    try:\n",
    "        # Procesa la respuesta y almacena los datos en MongoDB como un objeto separado\n",
    "        if response.status_code == 200:\n",
    "            data = response.content\n",
    "            data_dict = json.loads(data)\n",
    "            data = data_dict.get('results', [])  # Obtiene la parte 'results' o una lista vacía si no existe\n",
    "            if data:\n",
    "                collection.insert_many(data)\n",
    "                print(f\"Datos para la ubicación {location_id} insertados en MongoDB.\")\n",
    "            else:\n",
    "                print(f\"Datos para la ubicación {location_id} están vacíos.\")\n",
    "        else:\n",
    "            print(f\"Error al obtener datos para la ubicación {location_id}. Código de estado: {response.status_code}\")\n",
    "    except TypeError as e:\n",
    "        print(f\"Error al insertar datos para la ubicación {location_id}: {e}\")"
   ]
  }
 ],
 "metadata": {
  "kernelspec": {
   "display_name": "Python 3 (ipykernel)",
   "language": "python",
   "name": "python3"
  },
  "language_info": {
   "codemirror_mode": {
    "name": "ipython",
    "version": 3
   },
   "file_extension": ".py",
   "mimetype": "text/x-python",
   "name": "python",
   "nbconvert_exporter": "python",
   "pygments_lexer": "ipython3",
   "version": "3.11.4"
  }
 },
 "nbformat": 4,
 "nbformat_minor": 5
}
