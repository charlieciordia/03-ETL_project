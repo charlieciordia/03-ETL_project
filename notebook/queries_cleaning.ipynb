{
 "cells": [
  {
   "cell_type": "markdown",
   "id": "21e06740",
   "metadata": {},
   "source": [
    "# Mongo queries & cleaning"
   ]
  },
  {
   "cell_type": "markdown",
   "id": "49d793f5",
   "metadata": {},
   "source": [
    "Este archivo contiene las consultas a la base de datos creada en Mongo, con la colección de los datos recogidos en la API open airq. Del mismo modo, la información extraída se limpia para su uso."
   ]
  },
  {
   "cell_type": "markdown",
   "id": "10c13915",
   "metadata": {},
   "source": [
    "### Conexión con MongoDB"
   ]
  },
  {
   "cell_type": "code",
   "execution_count": 15,
   "id": "328fd2ae",
   "metadata": {},
   "outputs": [],
   "source": [
    "import pymongo\n",
    "import pandas as pd"
   ]
  },
  {
   "cell_type": "code",
   "execution_count": 2,
   "id": "7a68ba42",
   "metadata": {},
   "outputs": [],
   "source": [
    "from pymongo import MongoClient"
   ]
  },
  {
   "cell_type": "code",
   "execution_count": 3,
   "id": "ef6a7f8c",
   "metadata": {},
   "outputs": [
    {
     "data": {
      "text/plain": [
       "MongoClient(host=['localhost:27017'], document_class=dict, tz_aware=False, connect=True)"
      ]
     },
     "execution_count": 3,
     "metadata": {},
     "output_type": "execute_result"
    }
   ],
   "source": [
    "str_conn='mongodb://localhost:27017'  # str_conn por defecto\n",
    "\n",
    "cursor=MongoClient(str_conn)\n",
    "\n",
    "cursor"
   ]
  },
  {
   "cell_type": "code",
   "execution_count": 4,
   "id": "900488e6",
   "metadata": {},
   "outputs": [
    {
     "data": {
      "text/plain": [
       "Database(MongoClient(host=['localhost:27017'], document_class=dict, tz_aware=False, connect=True), 'ETL_project')"
      ]
     },
     "execution_count": 4,
     "metadata": {},
     "output_type": "execute_result"
    }
   ],
   "source": [
    "#Accede a la base de datos \"ETL_project\"\n",
    "\n",
    "db = cursor.ETL_project\n",
    "db"
   ]
  },
  {
   "cell_type": "code",
   "execution_count": 5,
   "id": "e10f8a2e",
   "metadata": {},
   "outputs": [
    {
     "data": {
      "text/plain": [
       "Collection(Database(MongoClient(host=['localhost:27017'], document_class=dict, tz_aware=False, connect=True), 'ETL_project'), 'airq')"
      ]
     },
     "execution_count": 5,
     "metadata": {},
     "output_type": "execute_result"
    }
   ],
   "source": [
    "#Accede a la colección \"airq\"\n",
    "coleccion = db.airq\n",
    "coleccion"
   ]
  },
  {
   "cell_type": "markdown",
   "id": "557ed479",
   "metadata": {},
   "source": [
    "### Datos Madrid"
   ]
  },
  {
   "cell_type": "markdown",
   "id": "766d5f8a",
   "metadata": {},
   "source": [
    "Para cada ciudad, existen varias estaciones que recopilan datos de calidad de aire. Primero, se buscan todos los \"id\" para averiguar las estaciones por ciudad, en este caso Madrid. Posteriormente. se realiza la query para buscar el valor que queramos para todas esas estaciones."
   ]
  },
  {
   "cell_type": "code",
   "execution_count": 113,
   "id": "ef840be4",
   "metadata": {},
   "outputs": [],
   "source": [
    "#Busco todas las estaciones por \"id\" que hay en Madrid.\n",
    "\n",
    "query={\"city\":\"Madrid\"}\n",
    "select={\"_id\":0,\"id\":1,\"city\":1}\n",
    "\n",
    "id_lst_mad = list(coleccion.find(query,select))"
   ]
  },
  {
   "cell_type": "code",
   "execution_count": 114,
   "id": "bb6c509c",
   "metadata": {},
   "outputs": [],
   "source": [
    "id_values = [element[\"id\"] for element in id_lst_mad] #genera una lista con las id de todas las estación en Madrid"
   ]
  },
  {
   "cell_type": "code",
   "execution_count": 118,
   "id": "4bd20e36",
   "metadata": {},
   "outputs": [],
   "source": [
    "#Con todas las id de Madrid, busco el parámetro pm25 mensual.\n",
    "\n",
    "query = {\"id\": {\"$in\": id_values}, \"parameter\": \"pm25\"}\n",
    "\n",
    "select = {\"_id\": 0,\"id\": 1,\"parameter\": 1,\"average\": 1,\"first_datetime\": 1,\"last_datetime\": 1}\n",
    "\n",
    "results = list(coleccion.find(query, select))"
   ]
  },
  {
   "cell_type": "code",
   "execution_count": 119,
   "id": "645cbc08",
   "metadata": {},
   "outputs": [],
   "source": [
    "mad25 = pd.DataFrame(results)"
   ]
  },
  {
   "cell_type": "code",
   "execution_count": 126,
   "id": "bfba78d6",
   "metadata": {},
   "outputs": [
    {
     "data": {
      "text/html": [
       "<div>\n",
       "<style scoped>\n",
       "    .dataframe tbody tr th:only-of-type {\n",
       "        vertical-align: middle;\n",
       "    }\n",
       "\n",
       "    .dataframe tbody tr th {\n",
       "        vertical-align: top;\n",
       "    }\n",
       "\n",
       "    .dataframe thead th {\n",
       "        text-align: right;\n",
       "    }\n",
       "</style>\n",
       "<table border=\"1\" class=\"dataframe\">\n",
       "  <thead>\n",
       "    <tr style=\"text-align: right;\">\n",
       "      <th></th>\n",
       "      <th>id</th>\n",
       "      <th>average</th>\n",
       "      <th>parameter</th>\n",
       "      <th>first_datetime</th>\n",
       "      <th>last_datetime</th>\n",
       "    </tr>\n",
       "  </thead>\n",
       "  <tbody>\n",
       "    <tr>\n",
       "      <th>0</th>\n",
       "      <td>3265</td>\n",
       "      <td>13.607143</td>\n",
       "      <td>pm25</td>\n",
       "      <td>2022-01-01T01:00:00Z</td>\n",
       "      <td>2022-02-01T00:00:00Z</td>\n",
       "    </tr>\n",
       "    <tr>\n",
       "      <th>1</th>\n",
       "      <td>3265</td>\n",
       "      <td>11.491049</td>\n",
       "      <td>pm25</td>\n",
       "      <td>2022-02-01T04:00:00Z</td>\n",
       "      <td>2022-02-28T23:00:00Z</td>\n",
       "    </tr>\n",
       "    <tr>\n",
       "      <th>2</th>\n",
       "      <td>3265</td>\n",
       "      <td>11.305389</td>\n",
       "      <td>pm25</td>\n",
       "      <td>2022-03-01T01:00:00Z</td>\n",
       "      <td>2022-04-01T00:00:00Z</td>\n",
       "    </tr>\n",
       "    <tr>\n",
       "      <th>3</th>\n",
       "      <td>3265</td>\n",
       "      <td>5.217391</td>\n",
       "      <td>pm25</td>\n",
       "      <td>2022-04-01T01:00:00Z</td>\n",
       "      <td>2022-04-30T07:00:00Z</td>\n",
       "    </tr>\n",
       "    <tr>\n",
       "      <th>4</th>\n",
       "      <td>3265</td>\n",
       "      <td>9.842593</td>\n",
       "      <td>pm25</td>\n",
       "      <td>2022-05-01T01:00:00Z</td>\n",
       "      <td>2022-05-31T23:00:00Z</td>\n",
       "    </tr>\n",
       "    <tr>\n",
       "      <th>5</th>\n",
       "      <td>3265</td>\n",
       "      <td>9.505747</td>\n",
       "      <td>pm25</td>\n",
       "      <td>2022-06-01T01:00:00Z</td>\n",
       "      <td>2022-06-30T02:00:00Z</td>\n",
       "    </tr>\n",
       "    <tr>\n",
       "      <th>6</th>\n",
       "      <td>3265</td>\n",
       "      <td>12.936709</td>\n",
       "      <td>pm25</td>\n",
       "      <td>2022-07-01T01:00:00Z</td>\n",
       "      <td>2022-07-30T05:00:00Z</td>\n",
       "    </tr>\n",
       "    <tr>\n",
       "      <th>7</th>\n",
       "      <td>3265</td>\n",
       "      <td>11.609756</td>\n",
       "      <td>pm25</td>\n",
       "      <td>2022-08-01T01:00:00Z</td>\n",
       "      <td>2022-08-31T23:00:00Z</td>\n",
       "    </tr>\n",
       "    <tr>\n",
       "      <th>8</th>\n",
       "      <td>3265</td>\n",
       "      <td>7.134021</td>\n",
       "      <td>pm25</td>\n",
       "      <td>2022-09-01T01:00:00Z</td>\n",
       "      <td>2022-10-01T00:00:00Z</td>\n",
       "    </tr>\n",
       "    <tr>\n",
       "      <th>9</th>\n",
       "      <td>3265</td>\n",
       "      <td>16.056075</td>\n",
       "      <td>pm25</td>\n",
       "      <td>2022-10-01T01:00:00Z</td>\n",
       "      <td>2022-10-28T02:00:00Z</td>\n",
       "    </tr>\n",
       "    <tr>\n",
       "      <th>10</th>\n",
       "      <td>3265</td>\n",
       "      <td>7.277409</td>\n",
       "      <td>pm25</td>\n",
       "      <td>2022-11-02T06:00:00Z</td>\n",
       "      <td>2022-12-01T00:00:00Z</td>\n",
       "    </tr>\n",
       "    <tr>\n",
       "      <th>11</th>\n",
       "      <td>3265</td>\n",
       "      <td>10.680505</td>\n",
       "      <td>pm25</td>\n",
       "      <td>2022-12-01T01:00:00Z</td>\n",
       "      <td>2022-12-31T00:00:00Z</td>\n",
       "    </tr>\n",
       "    <tr>\n",
       "      <th>12</th>\n",
       "      <td>3364</td>\n",
       "      <td>8.210300</td>\n",
       "      <td>pm25</td>\n",
       "      <td>2022-01-01T01:00:00Z</td>\n",
       "      <td>2022-02-01T00:00:00Z</td>\n",
       "    </tr>\n",
       "    <tr>\n",
       "      <th>13</th>\n",
       "      <td>3364</td>\n",
       "      <td>8.822222</td>\n",
       "      <td>pm25</td>\n",
       "      <td>2022-02-01T04:00:00Z</td>\n",
       "      <td>2022-02-28T23:00:00Z</td>\n",
       "    </tr>\n",
       "    <tr>\n",
       "      <th>14</th>\n",
       "      <td>3364</td>\n",
       "      <td>11.012422</td>\n",
       "      <td>pm25</td>\n",
       "      <td>2022-03-01T01:00:00Z</td>\n",
       "      <td>2022-04-01T00:00:00Z</td>\n",
       "    </tr>\n",
       "    <tr>\n",
       "      <th>15</th>\n",
       "      <td>3364</td>\n",
       "      <td>6.419355</td>\n",
       "      <td>pm25</td>\n",
       "      <td>2022-04-01T01:00:00Z</td>\n",
       "      <td>2022-04-30T07:00:00Z</td>\n",
       "    </tr>\n",
       "    <tr>\n",
       "      <th>16</th>\n",
       "      <td>3364</td>\n",
       "      <td>7.237624</td>\n",
       "      <td>pm25</td>\n",
       "      <td>2022-05-01T01:00:00Z</td>\n",
       "      <td>2022-05-31T23:00:00Z</td>\n",
       "    </tr>\n",
       "    <tr>\n",
       "      <th>17</th>\n",
       "      <td>3364</td>\n",
       "      <td>8.024096</td>\n",
       "      <td>pm25</td>\n",
       "      <td>2022-06-01T01:00:00Z</td>\n",
       "      <td>2022-06-30T02:00:00Z</td>\n",
       "    </tr>\n",
       "    <tr>\n",
       "      <th>18</th>\n",
       "      <td>3364</td>\n",
       "      <td>10.350649</td>\n",
       "      <td>pm25</td>\n",
       "      <td>2022-07-01T01:00:00Z</td>\n",
       "      <td>2022-07-30T05:00:00Z</td>\n",
       "    </tr>\n",
       "    <tr>\n",
       "      <th>19</th>\n",
       "      <td>3364</td>\n",
       "      <td>9.425000</td>\n",
       "      <td>pm25</td>\n",
       "      <td>2022-08-01T01:00:00Z</td>\n",
       "      <td>2022-08-31T23:00:00Z</td>\n",
       "    </tr>\n",
       "  </tbody>\n",
       "</table>\n",
       "</div>"
      ],
      "text/plain": [
       "      id    average parameter        first_datetime         last_datetime\n",
       "0   3265  13.607143      pm25  2022-01-01T01:00:00Z  2022-02-01T00:00:00Z\n",
       "1   3265  11.491049      pm25  2022-02-01T04:00:00Z  2022-02-28T23:00:00Z\n",
       "2   3265  11.305389      pm25  2022-03-01T01:00:00Z  2022-04-01T00:00:00Z\n",
       "3   3265   5.217391      pm25  2022-04-01T01:00:00Z  2022-04-30T07:00:00Z\n",
       "4   3265   9.842593      pm25  2022-05-01T01:00:00Z  2022-05-31T23:00:00Z\n",
       "5   3265   9.505747      pm25  2022-06-01T01:00:00Z  2022-06-30T02:00:00Z\n",
       "6   3265  12.936709      pm25  2022-07-01T01:00:00Z  2022-07-30T05:00:00Z\n",
       "7   3265  11.609756      pm25  2022-08-01T01:00:00Z  2022-08-31T23:00:00Z\n",
       "8   3265   7.134021      pm25  2022-09-01T01:00:00Z  2022-10-01T00:00:00Z\n",
       "9   3265  16.056075      pm25  2022-10-01T01:00:00Z  2022-10-28T02:00:00Z\n",
       "10  3265   7.277409      pm25  2022-11-02T06:00:00Z  2022-12-01T00:00:00Z\n",
       "11  3265  10.680505      pm25  2022-12-01T01:00:00Z  2022-12-31T00:00:00Z\n",
       "12  3364   8.210300      pm25  2022-01-01T01:00:00Z  2022-02-01T00:00:00Z\n",
       "13  3364   8.822222      pm25  2022-02-01T04:00:00Z  2022-02-28T23:00:00Z\n",
       "14  3364  11.012422      pm25  2022-03-01T01:00:00Z  2022-04-01T00:00:00Z\n",
       "15  3364   6.419355      pm25  2022-04-01T01:00:00Z  2022-04-30T07:00:00Z\n",
       "16  3364   7.237624      pm25  2022-05-01T01:00:00Z  2022-05-31T23:00:00Z\n",
       "17  3364   8.024096      pm25  2022-06-01T01:00:00Z  2022-06-30T02:00:00Z\n",
       "18  3364  10.350649      pm25  2022-07-01T01:00:00Z  2022-07-30T05:00:00Z\n",
       "19  3364   9.425000      pm25  2022-08-01T01:00:00Z  2022-08-31T23:00:00Z"
      ]
     },
     "execution_count": 126,
     "metadata": {},
     "output_type": "execute_result"
    }
   ],
   "source": [
    "mad25.head(20)"
   ]
  },
  {
   "cell_type": "code",
   "execution_count": 121,
   "id": "adce18b5",
   "metadata": {},
   "outputs": [
    {
     "data": {
      "text/plain": [
       "(767, 5)"
      ]
     },
     "execution_count": 121,
     "metadata": {},
     "output_type": "execute_result"
    }
   ],
   "source": [
    "mad25.shape"
   ]
  },
  {
   "cell_type": "markdown",
   "id": "c56e12c7",
   "metadata": {},
   "source": [
    "Este data frame contiene el dato de media mensual de pm2.5 de 2022 para cada una de las estaciones disponibles en Madrid. Quiero un valor medio único para madrid, por tanto agrupo por mes y hago la media de cada conjunto de valores, usando **group by y mean() como función de agregación.**\n",
    "\n",
    "La materia particulada o PM (por sus siglas en inglés) 2.5, son partículas muy pequeñas en el aire que tiene un diámetro de 2.5 micrómetros (aproximadamente 1 diezmilésimo de pulgada) o menos de diámetro. Una evaluación de la organización, realizada en 2013, determinó que la contaminación del aire por partículas PM 2.5 es carcinógena para el ser humano y está estrechamente relacionadas con la incidencia al cáncer de pulmón."
   ]
  },
  {
   "cell_type": "code",
   "execution_count": 139,
   "id": "43758de4",
   "metadata": {},
   "outputs": [
    {
     "data": {
      "text/plain": [
       "first_datetime\n",
       "2022-01-01T01:00:00Z    11.194263\n",
       "2022-02-01T04:00:00Z    10.523692\n",
       "2022-02-07T00:00:00Z     8.462633\n",
       "2022-03-01T01:00:00Z    11.375703\n",
       "2022-03-01T10:00:00Z    11.896024\n",
       "2022-04-01T01:00:00Z     6.955307\n",
       "2022-04-02T00:00:00Z     6.065217\n",
       "2022-04-02T03:00:00Z     5.577204\n",
       "2022-04-02T04:00:00Z     5.670189\n",
       "2022-05-01T01:00:00Z     9.555705\n",
       "2022-05-03T00:00:00Z     9.480442\n",
       "2022-05-05T04:00:00Z     9.497609\n",
       "2022-05-07T04:00:00Z     8.534884\n",
       "2022-06-01T01:00:00Z    10.262554\n",
       "2022-06-01T14:00:00Z    11.373494\n",
       "2022-06-02T23:00:00Z     9.714758\n",
       "2022-07-01T01:00:00Z    12.462989\n",
       "2022-07-01T20:00:00Z    18.547019\n",
       "2022-08-01T01:00:00Z    11.328731\n",
       "2022-08-01T09:00:00Z    13.998792\n",
       "2022-09-01T01:00:00Z     8.112390\n",
       "2022-09-07T01:00:00Z     5.723861\n",
       "2022-10-01T01:00:00Z    11.657261\n",
       "2022-11-02T06:00:00Z     7.522817\n",
       "2022-11-02T13:00:00Z     8.382696\n",
       "2022-12-01T01:00:00Z     9.462778\n",
       "Name: average, dtype: float64"
      ]
     },
     "execution_count": 139,
     "metadata": {},
     "output_type": "execute_result"
    }
   ],
   "source": [
    "mad25_avg = mad25.groupby(\"first_datetime\")[\"average\"].mean()\n",
    "mad25_avg"
   ]
  },
  {
   "cell_type": "code",
   "execution_count": 144,
   "id": "b392047c",
   "metadata": {},
   "outputs": [],
   "source": [
    "df_mad25_avg = mad25_avg.to_frame() #lo convierto en df."
   ]
  },
  {
   "cell_type": "markdown",
   "id": "0913c89f",
   "metadata": {},
   "source": [
    "Se debería realizar el mismo proceso para cada ciudad. Por comodidad, para el resto de ciudades se ha tomado el valor de una única estación."
   ]
  },
  {
   "cell_type": "markdown",
   "id": "8a334f0f",
   "metadata": {},
   "source": [
    "### Datos Málaga"
   ]
  },
  {
   "cell_type": "code",
   "execution_count": 145,
   "id": "b4f3f2a7",
   "metadata": {},
   "outputs": [],
   "source": [
    "#El nombre de una estación en Málaga es \"ES0817A\". Este nombre lo puedo consultar en la bd en Mongo, lo he extraído de la API.\n",
    "\n",
    "query={\"name\":\"ES0817A\",\n",
    "       \"parameter\":\"pm25\"}\n",
    "select={\"_id\":0,\"name\":1,\"parameter\":1,\"average\":1, \"first_datetime\":1, \"last_datetime\":1}\n",
    "\n",
    "results2= list(coleccion.find(query,select))"
   ]
  },
  {
   "cell_type": "code",
   "execution_count": 146,
   "id": "fa368532",
   "metadata": {},
   "outputs": [],
   "source": [
    "df_malaga = pd.DataFrame(results2)"
   ]
  },
  {
   "cell_type": "code",
   "execution_count": 148,
   "id": "f0acd17c",
   "metadata": {},
   "outputs": [
    {
     "data": {
      "text/html": [
       "<div>\n",
       "<style scoped>\n",
       "    .dataframe tbody tr th:only-of-type {\n",
       "        vertical-align: middle;\n",
       "    }\n",
       "\n",
       "    .dataframe tbody tr th {\n",
       "        vertical-align: top;\n",
       "    }\n",
       "\n",
       "    .dataframe thead th {\n",
       "        text-align: right;\n",
       "    }\n",
       "</style>\n",
       "<table border=\"1\" class=\"dataframe\">\n",
       "  <thead>\n",
       "    <tr style=\"text-align: right;\">\n",
       "      <th></th>\n",
       "      <th>name</th>\n",
       "      <th>average</th>\n",
       "      <th>parameter</th>\n",
       "      <th>first_datetime</th>\n",
       "      <th>last_datetime</th>\n",
       "    </tr>\n",
       "  </thead>\n",
       "  <tbody>\n",
       "    <tr>\n",
       "      <th>0</th>\n",
       "      <td>ES0817A</td>\n",
       "      <td>13.405634</td>\n",
       "      <td>pm25</td>\n",
       "      <td>2022-01-01T01:00:00Z</td>\n",
       "      <td>2022-02-01T00:00:00Z</td>\n",
       "    </tr>\n",
       "    <tr>\n",
       "      <th>1</th>\n",
       "      <td>ES0817A</td>\n",
       "      <td>12.812689</td>\n",
       "      <td>pm25</td>\n",
       "      <td>2022-02-01T04:00:00Z</td>\n",
       "      <td>2022-02-28T20:00:00Z</td>\n",
       "    </tr>\n",
       "    <tr>\n",
       "      <th>2</th>\n",
       "      <td>ES0817A</td>\n",
       "      <td>14.445460</td>\n",
       "      <td>pm25</td>\n",
       "      <td>2022-03-01T08:00:00Z</td>\n",
       "      <td>2022-04-01T00:00:00Z</td>\n",
       "    </tr>\n",
       "    <tr>\n",
       "      <th>3</th>\n",
       "      <td>ES0817A</td>\n",
       "      <td>5.960000</td>\n",
       "      <td>pm25</td>\n",
       "      <td>2022-04-01T01:00:00Z</td>\n",
       "      <td>2022-04-30T10:00:00Z</td>\n",
       "    </tr>\n",
       "    <tr>\n",
       "      <th>4</th>\n",
       "      <td>ES0817A</td>\n",
       "      <td>9.836176</td>\n",
       "      <td>pm25</td>\n",
       "      <td>2022-05-03T01:00:00Z</td>\n",
       "      <td>2022-05-31T16:00:00Z</td>\n",
       "    </tr>\n",
       "  </tbody>\n",
       "</table>\n",
       "</div>"
      ],
      "text/plain": [
       "      name    average parameter        first_datetime         last_datetime\n",
       "0  ES0817A  13.405634      pm25  2022-01-01T01:00:00Z  2022-02-01T00:00:00Z\n",
       "1  ES0817A  12.812689      pm25  2022-02-01T04:00:00Z  2022-02-28T20:00:00Z\n",
       "2  ES0817A  14.445460      pm25  2022-03-01T08:00:00Z  2022-04-01T00:00:00Z\n",
       "3  ES0817A   5.960000      pm25  2022-04-01T01:00:00Z  2022-04-30T10:00:00Z\n",
       "4  ES0817A   9.836176      pm25  2022-05-03T01:00:00Z  2022-05-31T16:00:00Z"
      ]
     },
     "execution_count": 148,
     "metadata": {},
     "output_type": "execute_result"
    }
   ],
   "source": [
    "df_malaga.head()"
   ]
  },
  {
   "cell_type": "code",
   "execution_count": 161,
   "id": "a17ca4d1",
   "metadata": {},
   "outputs": [
    {
     "data": {
      "text/plain": [
       "(12, 5)"
      ]
     },
     "execution_count": 161,
     "metadata": {},
     "output_type": "execute_result"
    }
   ],
   "source": [
    "df_malaga.shape #chachi, tiene los doce meses de 2022"
   ]
  },
  {
   "cell_type": "markdown",
   "id": "eaf5d0e8",
   "metadata": {},
   "source": [
    "### Datos Barcelona"
   ]
  },
  {
   "cell_type": "code",
   "execution_count": 156,
   "id": "8bf4f197",
   "metadata": {},
   "outputs": [],
   "source": [
    "#id: 276005, \"name\" = \"Starlab Barcelona\"\n",
    "\n",
    "query={\"name\":\"Starlab Barcelona\",\n",
    "       \"parameter\":\"pm25\"}\n",
    "select={\"_id\":0,\"name\":1,\"parameter\":1,\"average\":1, \"first_datetime\":1, \"last_datetime\":1}\n",
    "\n",
    "results3= list(coleccion.find(query,select))"
   ]
  },
  {
   "cell_type": "code",
   "execution_count": 157,
   "id": "94d99889",
   "metadata": {},
   "outputs": [],
   "source": [
    "df_bcn = pd.DataFrame(results3)"
   ]
  },
  {
   "cell_type": "code",
   "execution_count": 158,
   "id": "a50b5b6c",
   "metadata": {
    "scrolled": true
   },
   "outputs": [
    {
     "data": {
      "text/html": [
       "<div>\n",
       "<style scoped>\n",
       "    .dataframe tbody tr th:only-of-type {\n",
       "        vertical-align: middle;\n",
       "    }\n",
       "\n",
       "    .dataframe tbody tr th {\n",
       "        vertical-align: top;\n",
       "    }\n",
       "\n",
       "    .dataframe thead th {\n",
       "        text-align: right;\n",
       "    }\n",
       "</style>\n",
       "<table border=\"1\" class=\"dataframe\">\n",
       "  <thead>\n",
       "    <tr style=\"text-align: right;\">\n",
       "      <th></th>\n",
       "      <th>name</th>\n",
       "      <th>average</th>\n",
       "      <th>parameter</th>\n",
       "      <th>first_datetime</th>\n",
       "      <th>last_datetime</th>\n",
       "    </tr>\n",
       "  </thead>\n",
       "  <tbody>\n",
       "    <tr>\n",
       "      <th>0</th>\n",
       "      <td>Starlab Barcelona</td>\n",
       "      <td>28.570915</td>\n",
       "      <td>pm25</td>\n",
       "      <td>2022-01-07T10:00:00Z</td>\n",
       "      <td>2022-02-01T00:00:00Z</td>\n",
       "    </tr>\n",
       "    <tr>\n",
       "      <th>1</th>\n",
       "      <td>Starlab Barcelona</td>\n",
       "      <td>13.440817</td>\n",
       "      <td>pm25</td>\n",
       "      <td>2022-02-01T01:00:00Z</td>\n",
       "      <td>2022-02-25T11:00:00Z</td>\n",
       "    </tr>\n",
       "    <tr>\n",
       "      <th>2</th>\n",
       "      <td>Starlab Barcelona</td>\n",
       "      <td>16.697877</td>\n",
       "      <td>pm25</td>\n",
       "      <td>2022-03-03T14:00:00Z</td>\n",
       "      <td>2022-04-01T00:00:00Z</td>\n",
       "    </tr>\n",
       "    <tr>\n",
       "      <th>3</th>\n",
       "      <td>Starlab Barcelona</td>\n",
       "      <td>8.251961</td>\n",
       "      <td>pm25</td>\n",
       "      <td>2022-04-01T01:00:00Z</td>\n",
       "      <td>2022-05-01T00:00:00Z</td>\n",
       "    </tr>\n",
       "    <tr>\n",
       "      <th>4</th>\n",
       "      <td>Starlab Barcelona</td>\n",
       "      <td>11.750848</td>\n",
       "      <td>pm25</td>\n",
       "      <td>2022-05-01T01:00:00Z</td>\n",
       "      <td>2022-06-01T00:00:00Z</td>\n",
       "    </tr>\n",
       "  </tbody>\n",
       "</table>\n",
       "</div>"
      ],
      "text/plain": [
       "                name    average parameter        first_datetime  \\\n",
       "0  Starlab Barcelona  28.570915      pm25  2022-01-07T10:00:00Z   \n",
       "1  Starlab Barcelona  13.440817      pm25  2022-02-01T01:00:00Z   \n",
       "2  Starlab Barcelona  16.697877      pm25  2022-03-03T14:00:00Z   \n",
       "3  Starlab Barcelona   8.251961      pm25  2022-04-01T01:00:00Z   \n",
       "4  Starlab Barcelona  11.750848      pm25  2022-05-01T01:00:00Z   \n",
       "\n",
       "          last_datetime  \n",
       "0  2022-02-01T00:00:00Z  \n",
       "1  2022-02-25T11:00:00Z  \n",
       "2  2022-04-01T00:00:00Z  \n",
       "3  2022-05-01T00:00:00Z  \n",
       "4  2022-06-01T00:00:00Z  "
      ]
     },
     "execution_count": 158,
     "metadata": {},
     "output_type": "execute_result"
    }
   ],
   "source": [
    "df_bcn.head()"
   ]
  },
  {
   "cell_type": "code",
   "execution_count": 160,
   "id": "2ebcccab",
   "metadata": {},
   "outputs": [
    {
     "data": {
      "text/plain": [
       "(12, 5)"
      ]
     },
     "execution_count": 160,
     "metadata": {},
     "output_type": "execute_result"
    }
   ],
   "source": [
    "df_bcn.shape "
   ]
  },
  {
   "cell_type": "markdown",
   "id": "ad48b151",
   "metadata": {},
   "source": [
    "### Datos Sevilla"
   ]
  },
  {
   "cell_type": "code",
   "execution_count": 162,
   "id": "fa0ca996",
   "metadata": {},
   "outputs": [],
   "source": [
    "#id: 4219,\"name\" = \"ES0817A\".\n",
    "\n",
    "query={\"name\":\"ES0817A\",\n",
    "       \"parameter\":\"pm25\"}\n",
    "select={\"_id\":0,\"name\":1,\"parameter\":1,\"average\":1, \"first_datetime\":1, \"last_datetime\":1}\n",
    "\n",
    "results4= list(coleccion.find(query,select))"
   ]
  },
  {
   "cell_type": "code",
   "execution_count": 163,
   "id": "2b8d984b",
   "metadata": {},
   "outputs": [],
   "source": [
    "df_sev = pd.DataFrame(results4)"
   ]
  },
  {
   "cell_type": "code",
   "execution_count": 164,
   "id": "d39ee479",
   "metadata": {},
   "outputs": [
    {
     "data": {
      "text/html": [
       "<div>\n",
       "<style scoped>\n",
       "    .dataframe tbody tr th:only-of-type {\n",
       "        vertical-align: middle;\n",
       "    }\n",
       "\n",
       "    .dataframe tbody tr th {\n",
       "        vertical-align: top;\n",
       "    }\n",
       "\n",
       "    .dataframe thead th {\n",
       "        text-align: right;\n",
       "    }\n",
       "</style>\n",
       "<table border=\"1\" class=\"dataframe\">\n",
       "  <thead>\n",
       "    <tr style=\"text-align: right;\">\n",
       "      <th></th>\n",
       "      <th>name</th>\n",
       "      <th>average</th>\n",
       "      <th>parameter</th>\n",
       "      <th>first_datetime</th>\n",
       "      <th>last_datetime</th>\n",
       "    </tr>\n",
       "  </thead>\n",
       "  <tbody>\n",
       "    <tr>\n",
       "      <th>0</th>\n",
       "      <td>ES0817A</td>\n",
       "      <td>13.405634</td>\n",
       "      <td>pm25</td>\n",
       "      <td>2022-01-01T01:00:00Z</td>\n",
       "      <td>2022-02-01T00:00:00Z</td>\n",
       "    </tr>\n",
       "    <tr>\n",
       "      <th>1</th>\n",
       "      <td>ES0817A</td>\n",
       "      <td>12.812689</td>\n",
       "      <td>pm25</td>\n",
       "      <td>2022-02-01T04:00:00Z</td>\n",
       "      <td>2022-02-28T20:00:00Z</td>\n",
       "    </tr>\n",
       "    <tr>\n",
       "      <th>2</th>\n",
       "      <td>ES0817A</td>\n",
       "      <td>14.445460</td>\n",
       "      <td>pm25</td>\n",
       "      <td>2022-03-01T08:00:00Z</td>\n",
       "      <td>2022-04-01T00:00:00Z</td>\n",
       "    </tr>\n",
       "    <tr>\n",
       "      <th>3</th>\n",
       "      <td>ES0817A</td>\n",
       "      <td>5.960000</td>\n",
       "      <td>pm25</td>\n",
       "      <td>2022-04-01T01:00:00Z</td>\n",
       "      <td>2022-04-30T10:00:00Z</td>\n",
       "    </tr>\n",
       "    <tr>\n",
       "      <th>4</th>\n",
       "      <td>ES0817A</td>\n",
       "      <td>9.836176</td>\n",
       "      <td>pm25</td>\n",
       "      <td>2022-05-03T01:00:00Z</td>\n",
       "      <td>2022-05-31T16:00:00Z</td>\n",
       "    </tr>\n",
       "  </tbody>\n",
       "</table>\n",
       "</div>"
      ],
      "text/plain": [
       "      name    average parameter        first_datetime         last_datetime\n",
       "0  ES0817A  13.405634      pm25  2022-01-01T01:00:00Z  2022-02-01T00:00:00Z\n",
       "1  ES0817A  12.812689      pm25  2022-02-01T04:00:00Z  2022-02-28T20:00:00Z\n",
       "2  ES0817A  14.445460      pm25  2022-03-01T08:00:00Z  2022-04-01T00:00:00Z\n",
       "3  ES0817A   5.960000      pm25  2022-04-01T01:00:00Z  2022-04-30T10:00:00Z\n",
       "4  ES0817A   9.836176      pm25  2022-05-03T01:00:00Z  2022-05-31T16:00:00Z"
      ]
     },
     "execution_count": 164,
     "metadata": {},
     "output_type": "execute_result"
    }
   ],
   "source": [
    "df_sev.head()"
   ]
  },
  {
   "cell_type": "code",
   "execution_count": 165,
   "id": "4c3ed1bc",
   "metadata": {},
   "outputs": [
    {
     "data": {
      "text/plain": [
       "(12, 5)"
      ]
     },
     "execution_count": 165,
     "metadata": {},
     "output_type": "execute_result"
    }
   ],
   "source": [
    "df_sev.shape"
   ]
  },
  {
   "cell_type": "markdown",
   "id": "7c3f13d0",
   "metadata": {},
   "source": [
    "### Datos Valencia"
   ]
  },
  {
   "cell_type": "code",
   "execution_count": 166,
   "id": "ce1b5a70",
   "metadata": {},
   "outputs": [],
   "source": [
    "#id: 4316 \"name\" = \"ES1181A\" \n",
    "\n",
    "query={\"name\":\"ES1181A\",\n",
    "       \"parameter\":\"pm25\"}\n",
    "select={\"_id\":0,\"name\":1,\"parameter\":1,\"average\":1, \"first_datetime\":1, \"last_datetime\":1}\n",
    "\n",
    "results5= list(coleccion.find(query,select))"
   ]
  },
  {
   "cell_type": "code",
   "execution_count": 168,
   "id": "e619a5a2",
   "metadata": {},
   "outputs": [],
   "source": [
    "df_val = pd.DataFrame(results5)"
   ]
  },
  {
   "cell_type": "code",
   "execution_count": 169,
   "id": "e5cb2510",
   "metadata": {},
   "outputs": [
    {
     "data": {
      "text/html": [
       "<div>\n",
       "<style scoped>\n",
       "    .dataframe tbody tr th:only-of-type {\n",
       "        vertical-align: middle;\n",
       "    }\n",
       "\n",
       "    .dataframe tbody tr th {\n",
       "        vertical-align: top;\n",
       "    }\n",
       "\n",
       "    .dataframe thead th {\n",
       "        text-align: right;\n",
       "    }\n",
       "</style>\n",
       "<table border=\"1\" class=\"dataframe\">\n",
       "  <thead>\n",
       "    <tr style=\"text-align: right;\">\n",
       "      <th></th>\n",
       "      <th>name</th>\n",
       "      <th>average</th>\n",
       "      <th>parameter</th>\n",
       "      <th>first_datetime</th>\n",
       "      <th>last_datetime</th>\n",
       "    </tr>\n",
       "  </thead>\n",
       "  <tbody>\n",
       "    <tr>\n",
       "      <th>0</th>\n",
       "      <td>ES1181A</td>\n",
       "      <td>10.937768</td>\n",
       "      <td>pm25</td>\n",
       "      <td>2022-01-01T01:00:00Z</td>\n",
       "      <td>2022-01-31T20:00:00Z</td>\n",
       "    </tr>\n",
       "    <tr>\n",
       "      <th>1</th>\n",
       "      <td>ES1181A</td>\n",
       "      <td>12.289189</td>\n",
       "      <td>pm25</td>\n",
       "      <td>2022-02-01T04:00:00Z</td>\n",
       "      <td>2022-03-01T00:00:00Z</td>\n",
       "    </tr>\n",
       "    <tr>\n",
       "      <th>2</th>\n",
       "      <td>ES1181A</td>\n",
       "      <td>11.417417</td>\n",
       "      <td>pm25</td>\n",
       "      <td>2022-03-01T01:00:00Z</td>\n",
       "      <td>2022-04-01T00:00:00Z</td>\n",
       "    </tr>\n",
       "    <tr>\n",
       "      <th>3</th>\n",
       "      <td>ES1181A</td>\n",
       "      <td>7.034884</td>\n",
       "      <td>pm25</td>\n",
       "      <td>2022-04-01T01:00:00Z</td>\n",
       "      <td>2022-05-01T00:00:00Z</td>\n",
       "    </tr>\n",
       "    <tr>\n",
       "      <th>4</th>\n",
       "      <td>ES1181A</td>\n",
       "      <td>13.381579</td>\n",
       "      <td>pm25</td>\n",
       "      <td>2022-05-02T00:00:00Z</td>\n",
       "      <td>2022-06-01T00:00:00Z</td>\n",
       "    </tr>\n",
       "  </tbody>\n",
       "</table>\n",
       "</div>"
      ],
      "text/plain": [
       "      name    average parameter        first_datetime         last_datetime\n",
       "0  ES1181A  10.937768      pm25  2022-01-01T01:00:00Z  2022-01-31T20:00:00Z\n",
       "1  ES1181A  12.289189      pm25  2022-02-01T04:00:00Z  2022-03-01T00:00:00Z\n",
       "2  ES1181A  11.417417      pm25  2022-03-01T01:00:00Z  2022-04-01T00:00:00Z\n",
       "3  ES1181A   7.034884      pm25  2022-04-01T01:00:00Z  2022-05-01T00:00:00Z\n",
       "4  ES1181A  13.381579      pm25  2022-05-02T00:00:00Z  2022-06-01T00:00:00Z"
      ]
     },
     "execution_count": 169,
     "metadata": {},
     "output_type": "execute_result"
    }
   ],
   "source": [
    "df_val.head()"
   ]
  },
  {
   "cell_type": "code",
   "execution_count": 170,
   "id": "095ee4ff",
   "metadata": {},
   "outputs": [
    {
     "data": {
      "text/plain": [
       "(12, 5)"
      ]
     },
     "execution_count": 170,
     "metadata": {},
     "output_type": "execute_result"
    }
   ],
   "source": [
    "df_val.shape"
   ]
  },
  {
   "cell_type": "markdown",
   "id": "685fb149",
   "metadata": {},
   "source": [
    "### Datos Bilbao"
   ]
  },
  {
   "cell_type": "code",
   "execution_count": 171,
   "id": "c5f79df5",
   "metadata": {},
   "outputs": [],
   "source": [
    "#id: 3264, \"name\" = \"ES1489A\"\n",
    "\n",
    "query={\"name\":\"ES1489A\",\n",
    "       \"parameter\":\"pm25\"}\n",
    "select={\"_id\":0,\"name\":1,\"parameter\":1,\"average\":1, \"first_datetime\":1, \"last_datetime\":1}\n",
    "\n",
    "results6= list(coleccion.find(query,select))"
   ]
  },
  {
   "cell_type": "code",
   "execution_count": 172,
   "id": "5a787ea8",
   "metadata": {},
   "outputs": [],
   "source": [
    "df_bilbo = pd.DataFrame(results6)"
   ]
  },
  {
   "cell_type": "code",
   "execution_count": 173,
   "id": "e36ce4df",
   "metadata": {},
   "outputs": [
    {
     "data": {
      "text/html": [
       "<div>\n",
       "<style scoped>\n",
       "    .dataframe tbody tr th:only-of-type {\n",
       "        vertical-align: middle;\n",
       "    }\n",
       "\n",
       "    .dataframe tbody tr th {\n",
       "        vertical-align: top;\n",
       "    }\n",
       "\n",
       "    .dataframe thead th {\n",
       "        text-align: right;\n",
       "    }\n",
       "</style>\n",
       "<table border=\"1\" class=\"dataframe\">\n",
       "  <thead>\n",
       "    <tr style=\"text-align: right;\">\n",
       "      <th></th>\n",
       "      <th>name</th>\n",
       "      <th>average</th>\n",
       "      <th>parameter</th>\n",
       "      <th>first_datetime</th>\n",
       "      <th>last_datetime</th>\n",
       "    </tr>\n",
       "  </thead>\n",
       "  <tbody>\n",
       "    <tr>\n",
       "      <th>0</th>\n",
       "      <td>ES1489A</td>\n",
       "      <td>13.695238</td>\n",
       "      <td>pm25</td>\n",
       "      <td>2022-03-13T01:00:00Z</td>\n",
       "      <td>2022-04-01T00:00:00Z</td>\n",
       "    </tr>\n",
       "    <tr>\n",
       "      <th>1</th>\n",
       "      <td>ES1489A</td>\n",
       "      <td>3.459184</td>\n",
       "      <td>pm25</td>\n",
       "      <td>2022-04-01T01:00:00Z</td>\n",
       "      <td>2022-04-30T06:00:00Z</td>\n",
       "    </tr>\n",
       "    <tr>\n",
       "      <th>2</th>\n",
       "      <td>ES1489A</td>\n",
       "      <td>5.811475</td>\n",
       "      <td>pm25</td>\n",
       "      <td>2022-05-01T01:00:00Z</td>\n",
       "      <td>2022-05-31T04:00:00Z</td>\n",
       "    </tr>\n",
       "    <tr>\n",
       "      <th>3</th>\n",
       "      <td>ES1489A</td>\n",
       "      <td>6.168539</td>\n",
       "      <td>pm25</td>\n",
       "      <td>2022-06-01T01:00:00Z</td>\n",
       "      <td>2022-06-30T02:00:00Z</td>\n",
       "    </tr>\n",
       "    <tr>\n",
       "      <th>4</th>\n",
       "      <td>ES1489A</td>\n",
       "      <td>8.663158</td>\n",
       "      <td>pm25</td>\n",
       "      <td>2022-07-01T01:00:00Z</td>\n",
       "      <td>2022-07-30T04:00:00Z</td>\n",
       "    </tr>\n",
       "  </tbody>\n",
       "</table>\n",
       "</div>"
      ],
      "text/plain": [
       "      name    average parameter        first_datetime         last_datetime\n",
       "0  ES1489A  13.695238      pm25  2022-03-13T01:00:00Z  2022-04-01T00:00:00Z\n",
       "1  ES1489A   3.459184      pm25  2022-04-01T01:00:00Z  2022-04-30T06:00:00Z\n",
       "2  ES1489A   5.811475      pm25  2022-05-01T01:00:00Z  2022-05-31T04:00:00Z\n",
       "3  ES1489A   6.168539      pm25  2022-06-01T01:00:00Z  2022-06-30T02:00:00Z\n",
       "4  ES1489A   8.663158      pm25  2022-07-01T01:00:00Z  2022-07-30T04:00:00Z"
      ]
     },
     "execution_count": 173,
     "metadata": {},
     "output_type": "execute_result"
    }
   ],
   "source": [
    "df_bilbo.head()"
   ]
  },
  {
   "cell_type": "code",
   "execution_count": 174,
   "id": "9cd77eca",
   "metadata": {},
   "outputs": [
    {
     "data": {
      "text/plain": [
       "(10, 5)"
      ]
     },
     "execution_count": 174,
     "metadata": {},
     "output_type": "execute_result"
    }
   ],
   "source": [
    "df_bilbo.shape #en Bilbao no están los primeros meses de 2022"
   ]
  }
 ],
 "metadata": {
  "kernelspec": {
   "display_name": "Python 3 (ipykernel)",
   "language": "python",
   "name": "python3"
  },
  "language_info": {
   "codemirror_mode": {
    "name": "ipython",
    "version": 3
   },
   "file_extension": ".py",
   "mimetype": "text/x-python",
   "name": "python",
   "nbconvert_exporter": "python",
   "pygments_lexer": "ipython3",
   "version": "3.11.4"
  }
 },
 "nbformat": 4,
 "nbformat_minor": 5
}
